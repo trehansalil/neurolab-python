{
 "cells": [
  {
   "cell_type": "code",
   "execution_count": 9,
   "metadata": {},
   "outputs": [],
   "source": [
    "import numpy as np\n",
    "import seaborn as sns\n",
    "import pandas as pd\n",
    "import matplotlib.pyplot as plt\n",
    "pd.set_option('display.max_columns', None)"
   ]
  },
  {
   "cell_type": "code",
   "execution_count": 10,
   "metadata": {},
   "outputs": [
    {
     "name": "stderr",
     "output_type": "stream",
     "text": [
      "[nltk_data] Downloading package stopwords to /config/nltk_data...\n",
      "[nltk_data]   Unzipping corpora/stopwords.zip.\n",
      "[nltk_data] Downloading package punkt to /config/nltk_data...\n",
      "[nltk_data]   Unzipping tokenizers/punkt.zip.\n",
      "[nltk_data] Downloading package wordnet to /config/nltk_data...\n",
      "[nltk_data] Downloading package omw-1.4 to /config/nltk_data...\n"
     ]
    },
    {
     "data": {
      "text/plain": [
       "True"
      ]
     },
     "execution_count": 10,
     "metadata": {},
     "output_type": "execute_result"
    }
   ],
   "source": [
    "# !pip install nltk\n",
    "import nltk\n",
    "from nltk import word_tokenize\n",
    "from nltk.corpus import stopwords\n",
    "from nltk.stem import PorterStemmer\n",
    "from nltk.stem import WordNetLemmatizer # Word net is a corpus of root words in its simplest form \n",
    "\n",
    "nltk.download('stopwords') # Installs the Corpus (collection) of common words   \n",
    "nltk.download('punkt') #tokenizer method which uses unsupervised algorithm to create word into tokens\n",
    "nltk.download('wordnet')\n",
    "nltk.download('omw-1.4')"
   ]
  },
  {
   "cell_type": "code",
   "execution_count": 11,
   "metadata": {},
   "outputs": [
    {
     "data": {
      "text/plain": [
       "['Ram is a good student and he is scoring really well in his class',\n",
       " 'Ram is very good at studies and he is also a great sportsman',\n",
       " 'Best football player in school is Ram',\n",
       " 'Ram is an obedient and smart student']"
      ]
     },
     "execution_count": 11,
     "metadata": {},
     "output_type": "execute_result"
    }
   ],
   "source": [
    "A= \"Ram is a good student and he is scoring really well in his class\"\n",
    "B= \"Ram is very good at studies and he is also a great sportsman\"\n",
    "C= \"Best football player in school is Ram\"\n",
    "\n",
    "correct_answer = 'Ram is an obedient and smart student'\n",
    "\n",
    "docs = [A, B, C, correct_answer]\n",
    "\n",
    "docs"
   ]
  },
  {
   "cell_type": "code",
   "execution_count": 12,
   "metadata": {},
   "outputs": [],
   "source": [
    "def preprocess(document):\n",
    "    document = document.lower() # avoid differentiating if there is caps\n",
    "    words = word_tokenize(document) # string to list of words\n",
    "    words = [word for word in words if word not in stopwords.words(\"english\")] # remove stop words\n",
    "    lemmatizer = WordNetLemmatizer()\n",
    "    words = [lemmatizer.lemmatize(w) for w in words] # considering context and capturing the semantic meaning\n",
    "    document = \" \".join(words)\n",
    "    return document"
   ]
  },
  {
   "cell_type": "code",
   "execution_count": 13,
   "metadata": {},
   "outputs": [
    {
     "data": {
      "text/plain": [
       "['ram good student scoring really well class',\n",
       " 'ram good study also great sportsman',\n",
       " 'best football player school ram',\n",
       " 'ram obedient smart student']"
      ]
     },
     "execution_count": 13,
     "metadata": {},
     "output_type": "execute_result"
    }
   ],
   "source": [
    "docs = [preprocess(i) for i in docs]\n",
    "\n",
    "docs"
   ]
  },
  {
   "cell_type": "code",
   "execution_count": 14,
   "metadata": {},
   "outputs": [],
   "source": [
    "from sklearn.feature_extraction.text import CountVectorizer\n",
    "vectorizer = CountVectorizer()\n",
    "bow_model = vectorizer.fit_transform(docs) # bag of words\n",
    "df = pd.DataFrame(\n",
    "    bow_model.toarray(), \n",
    "    columns = vectorizer.get_feature_names_out(),\n",
    "    index = ['A', 'B', 'C', 'Correct_answer']\n",
    ")\n",
    "    "
   ]
  },
  {
   "cell_type": "code",
   "execution_count": 15,
   "metadata": {},
   "outputs": [],
   "source": [
    "def cosine_similarity(A,B):\n",
    "    return np.dot(A,B)/(np.linalg.norm(A)*np.linalg.norm(B))"
   ]
  },
  {
   "cell_type": "code",
   "execution_count": 16,
   "metadata": {},
   "outputs": [
    {
     "data": {
      "text/plain": [
       "[[0.9999999999999999, 0.3779644730092272, 0.3086066999241838],\n",
       " [0.3779644730092272, 1.0, 0.22360679774997896],\n",
       " [0.3086066999241838, 0.22360679774997896, 0.9999999999999998]]"
      ]
     },
     "execution_count": 16,
     "metadata": {},
     "output_type": "execute_result"
    }
   ],
   "source": [
    "array = df.values\n",
    "correct_answer = array[3]\n",
    "answer0 = array[0]\n",
    "answer1 = array[1]\n",
    "answer2 = array[2]\n",
    "\n",
    "\n",
    "q1 = cosine_similarity(answer0,answer0)\n",
    "q2 = cosine_similarity(correct_answer,answer0)\n",
    "q3 = cosine_similarity(answer1,answer0)\n",
    "q3 = cosine_similarity(answer1,answer0)\n",
    "\n",
    "q4 = cosine_similarity(correct_answer,answer2)\n",
    "q5 = cosine_similarity(answer2,answer2)\n",
    "\n",
    "q6 = cosine_similarity(correct_answer,correct_answer)\n",
    "\n",
    "output = [  [q1,q2,q3],[q2,q6,q4],[q3,q4,q5] ]\n",
    "output"
   ]
  },
  {
   "cell_type": "code",
   "execution_count": 17,
   "metadata": {},
   "outputs": [],
   "source": [
    "q0 = cosine_similarity(correct_answer,answer0)\n",
    "q1 = cosine_similarity(correct_answer,answer1)\n",
    "q2 = cosine_similarity(correct_answer,answer2)"
   ]
  },
  {
   "cell_type": "code",
   "execution_count": 18,
   "metadata": {},
   "outputs": [
    {
     "data": {
      "text/plain": [
       "(0.3779644730092272, 0.20412414523193154, 0.22360679774997896)"
      ]
     },
     "execution_count": 18,
     "metadata": {},
     "output_type": "execute_result"
    }
   ],
   "source": [
    "q0, q1, q2"
   ]
  },
  {
   "cell_type": "code",
   "execution_count": 19,
   "metadata": {},
   "outputs": [
    {
     "data": {
      "text/plain": [
       "(0.6454972243679028, 0.5345224838248488, 0.3779644730092272)"
      ]
     },
     "execution_count": 19,
     "metadata": {},
     "output_type": "execute_result"
    }
   ],
   "source": [
    "from sklearn.feature_extraction.text import CountVectorizer\n",
    "import numpy as np\n",
    "\n",
    "vectorizer= CountVectorizer()\n",
    "\n",
    "A= \"Ram is a good student and he is scoring really well in his class\"\n",
    "B= \"Ram is very good at studies and he is also a great sportsman\"\n",
    "C= \"Best football player in school is Ram\"\n",
    "\n",
    "#vectorize the sentences\n",
    "vector= vectorizer.fit_transform([A,B,C]).toarray()\n",
    "main= vectorizer.transform([\"Ram is an obedient and smart student\"]).toarray()\n",
    "\n",
    "# function to compute cosine similarity\n",
    "def cosine_similarity(A,B):\n",
    "    return np.dot(A,B)/(np.linalg.norm(A)*np.linalg.norm(B))\n",
    "\n",
    "cosine_similarity(main[0],vector[0]), cosine_similarity(main[0],vector[1]),cosine_similarity(main[0],vector[2])"
   ]
  },
  {
   "cell_type": "code",
   "execution_count": 20,
   "metadata": {},
   "outputs": [
    {
     "data": {
      "text/plain": [
       "array([0, 1, 0, 0, 1, 0, 1, 0, 1, 1, 1, 2, 0, 1, 1, 0, 1, 0, 1, 0, 0, 1])"
      ]
     },
     "execution_count": 20,
     "metadata": {},
     "output_type": "execute_result"
    }
   ],
   "source": [
    "vector[0]"
   ]
  },
  {
   "cell_type": "code",
   "execution_count": 21,
   "metadata": {},
   "outputs": [
    {
     "data": {
      "text/plain": [
       "'possibility dream come true make life interesting'"
      ]
     },
     "execution_count": 21,
     "metadata": {},
     "output_type": "execute_result"
    }
   ],
   "source": [
    "def preprocess(input_text):\n",
    "\n",
    "  # to lower cases and tokenization\n",
    "  text= input_text.lower()\n",
    "  text= word_tokenize(text)\n",
    "  \n",
    "  #stopwords removal\n",
    "  stop_w= stopwords.words(\"english\")\n",
    "  stop_w.extend([\".\"])\n",
    "  text_stopwords=[word for word in text if word not in stop_w]\n",
    "\n",
    "  text= text_stopwords\n",
    "\n",
    "  #Lemmatization\n",
    "  lemma = WordNetLemmatizer()\n",
    "  lem_words= [lemma.lemmatize(word) for word in text]\n",
    "\n",
    "  lemmatization_output= \" \".join(lem_words)\n",
    "\n",
    "  return(lemmatization_output)\n",
    "input_text = \"It is the possibility of having a dream come true that makes life interesting.\"\n",
    "preprocess(input_text)\n"
   ]
  },
  {
   "cell_type": "code",
   "execution_count": null,
   "metadata": {},
   "outputs": [],
   "source": []
  }
 ],
 "metadata": {
  "kernelspec": {
   "display_name": "Python 3.8.10 64-bit",
   "language": "python",
   "name": "python3"
  },
  "language_info": {
   "codemirror_mode": {
    "name": "ipython",
    "version": 3
   },
   "file_extension": ".py",
   "mimetype": "text/x-python",
   "name": "python",
   "nbconvert_exporter": "python",
   "pygments_lexer": "ipython3",
   "version": "3.8.10"
  },
  "orig_nbformat": 4,
  "vscode": {
   "interpreter": {
    "hash": "e7370f93d1d0cde622a1f8e1c04877d8463912d04d973331ad4851f04de6915a"
   }
  }
 },
 "nbformat": 4,
 "nbformat_minor": 2
}
